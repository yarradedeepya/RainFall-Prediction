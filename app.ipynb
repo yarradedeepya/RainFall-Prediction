{
 "cells": [
  {
   "cell_type": "code",
   "execution_count": null,
   "id": "56fda3c4",
   "metadata": {},
   "outputs": [
    {
     "name": "stdout",
     "output_type": "stream",
     "text": [
      "Model Loaded\n",
      " * Serving Flask app \"__main__\" (lazy loading)\n",
      " * Environment: production\n",
      "\u001b[31m   WARNING: This is a development server. Do not use it in a production deployment.\u001b[0m\n",
      "\u001b[2m   Use a production WSGI server instead.\u001b[0m\n",
      " * Debug mode: off\n"
     ]
    },
    {
     "name": "stderr",
     "output_type": "stream",
     "text": [
      " * Running on http://127.0.0.1:5000/ (Press CTRL+C to quit)\n",
      "127.0.0.1 - - [03/Dec/2022 20:56:55] \"GET / HTTP/1.1\" 200 -\n",
      "127.0.0.1 - - [03/Dec/2022 20:56:56] \"GET /static/predictor.css HTTP/1.1\" 200 -\n"
     ]
    }
   ],
   "source": [
    "from flask import Flask,render_template,url_for,request,jsonify\n",
    "from flask_cors import cross_origin\n",
    "import pandas as pd\n",
    "import numpy as np\n",
    "import datetime\n",
    "import pickle\n",
    "\n",
    "\n",
    "\n",
    "app = Flask(__name__, template_folder=\"template\")\n",
    "model = pickle.load(open(\"./models/cat.pkl\", \"rb\"))\n",
    "print(\"Model Loaded\")\n",
    "\n",
    "@app.route(\"/\",methods=['GET'])\n",
    "@cross_origin()\n",
    "def home():\n",
    "    return render_template(\"predictor.html\")\n",
    "\n",
    "@app.route(\"/predict\",methods=['GET', 'POST'])\n",
    "@cross_origin()\n",
    "def predict():\n",
    "    if request.method == \"POST\":\n",
    "        # DATE\n",
    "        date = request.form['date']\n",
    "        day = float(pd.to_datetime(date, format=\"%Y-%m-%dT\").day)\n",
    "        month = float(pd.to_datetime(date, format=\"%Y-%m-%dT\").month)\n",
    "        # MinTemp\n",
    "        minTemp = float(request.form['mintemp'])\n",
    "        # MaxTemp\n",
    "        maxTemp = float(request.form['maxtemp'])\n",
    "        # Rainfall\n",
    "        rainfall = float(request.form['rainfall'])\n",
    "        # Evaporation\n",
    "        evaporation = float(request.form['evaporation'])\n",
    "        # Sunshine\n",
    "        sunshine = float(request.form['sunshine'])\n",
    "        # Wind Gust Speed\n",
    "        windGustSpeed = float(request.form['windgustspeed'])\n",
    "        # Wind Speed 9am\n",
    "        windSpeed9am = float(request.form['windspeed9am'])\n",
    "        # Wind Speed 3pm\n",
    "        windSpeed3pm = float(request.form['windspeed3pm'])\n",
    "        # Humidity 9am\n",
    "        humidity9am = float(request.form['humidity9am'])\n",
    "        # Humidity 3pm\n",
    "        humidity3pm = float(request.form['humidity3pm'])\n",
    "        # Pressure 9am\n",
    "        pressure9am = float(request.form['pressure9am'])\n",
    "        # Pressure 3pm\n",
    "        pressure3pm = float(request.form['pressure3pm'])\n",
    "        # Temperature 9am\n",
    "        temp9am = float(request.form['temp9am'])\n",
    "        # Temperature 3pm\n",
    "        temp3pm = float(request.form['temp3pm'])\n",
    "        # Cloud 9am\n",
    "        cloud9am = float(request.form['cloud9am'])\n",
    "        # Cloud 3pm\n",
    "        cloud3pm = float(request.form['cloud3pm'])\n",
    "        # Cloud 3pm\n",
    "        location = float(request.form['location'])\n",
    "        # Wind Dir 9am\n",
    "        winddDir9am = float(request.form['winddir9am'])\n",
    "        # Wind Dir 3pm\n",
    "        winddDir3pm = float(request.form['winddir3pm'])\n",
    "        # Wind Gust Dir\n",
    "        windGustDir = float(request.form['windgustdir'])\n",
    "        # Rain Today\n",
    "        rainToday = float(request.form['raintoday'])\n",
    "        input_lst = [location , minTemp , maxTemp , rainfall , evaporation , sunshine ,\n",
    "                        windGustDir , windGustSpeed , winddDir9am , winddDir3pm , windSpeed9am , windSpeed3pm ,\n",
    "                        humidity9am , humidity3pm , pressure9am , pressure3pm , cloud9am , cloud3pm , temp9am , temp3pm ,\n",
    "                        rainToday , month , day]\n",
    "        pred = model.predict(input_lst)\n",
    "        output = pred\n",
    "        if output == 0:\n",
    "            return render_template(\"after_sunny.html\")\n",
    "        else:\n",
    "            return render_template(\"after_rainy.html\")\n",
    "    return render_template(\"predictor.html\")\n",
    "\n",
    "if __name__=='__main__':\n",
    "    app.run(debug=False)"
   ]
  },
  {
   "cell_type": "code",
   "execution_count": null,
   "id": "9ba556b4",
   "metadata": {},
   "outputs": [],
   "source": []
  },
  {
   "cell_type": "code",
   "execution_count": null,
   "id": "360a2fa4",
   "metadata": {},
   "outputs": [],
   "source": []
  }
 ],
 "metadata": {
  "kernelspec": {
   "display_name": "Python 3 (ipykernel)",
   "language": "python",
   "name": "python3"
  },
  "language_info": {
   "codemirror_mode": {
    "name": "ipython",
    "version": 3
   },
   "file_extension": ".py",
   "mimetype": "text/x-python",
   "name": "python",
   "nbconvert_exporter": "python",
   "pygments_lexer": "ipython3",
   "version": "3.9.12"
  }
 },
 "nbformat": 4,
 "nbformat_minor": 5
}
